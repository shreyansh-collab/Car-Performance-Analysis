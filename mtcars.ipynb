import pandas as pd
import numpy as np
import seaborn as sns
import matplotlib.pyplot as plt
from sklearn.model_selection import train_test_split
from sklearn.preprocessing import StandardScaler, LabelEncoder
from sklearn.tree import DecisionTreeRegressor, DecisionTreeClassifier
from sklearn.metrics import mean_squared_error, accuracy_score, classification_report

# Load dataset
data = pd.read_csv("auto-mpg.csv")

data.replace("?", np.nan, inplace=True)
data.dropna(inplace=True)

data["horsepower"] = data["horsepower"].astype(float)

# Pairplot visualization
sns.pairplot(data)
plt.show()

# One-hot encoding for 'origin'
data = pd.get_dummies(data, columns=["origin"], drop_first=True)

# Regression Task
X_reg = data.drop(columns=["mpg"])
y_reg = data["mpg"]

X_train, X_test, y_train, y_test = train_test_split(X_reg, y_reg, test_size=0.2, random_state=42)

scaler = StandardScaler()
X_train = scaler.fit_transform(X_train)
X_test = scaler.transform(X_test)

regressor = DecisionTreeRegressor(random_state=42, max_depth=5, min_samples_split=10)
regressor.fit(X_train, y_train)

y_pred = regressor.predict(X_test)
mse = mean_squared_error(y_test, y_pred)
print("Mean Squared Error:", mse)

# Classification Task
bins = [0, 18, 30, np.inf]
labels = ["low", "medium", "high"]
data["mpg_category"] = pd.cut(data["mpg"], bins=bins, labels=labels)

label_encoder = LabelEncoder()
data["mpg_category"] = label_encoder.fit_transform(data["mpg_category"])

X_class = data.drop(columns=["mpg", "mpg_category"])
y_class = data["mpg_category"]

X_train, X_test, y_train, y_test = train_test_split(X_class, y_class, test_size=0.2, random_state=42)

clf = DecisionTreeClassifier(random_state=42, max_depth=5, min_samples_split=10)
clf.fit(X_train, y_train)

y_pred = clf.predict(X_test)
acc = accuracy_score(y_test, y_pred)
print("Classification Accuracy:", acc)
print("Classification Report:\n", classification_report(y_test, y_pred))

# Feature Importance
feature_importances = pd.Series(clf.feature_importances_, index=X_class.columns)
feature_importances.sort_values(ascending=False).plot(kind="bar", title="Feature Importance")
plt.show()
